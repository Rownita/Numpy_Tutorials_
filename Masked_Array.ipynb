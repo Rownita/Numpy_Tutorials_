{
  "nbformat": 4,
  "nbformat_minor": 0,
  "metadata": {
    "colab": {
      "provenance": []
    },
    "kernelspec": {
      "name": "python3",
      "display_name": "Python 3"
    },
    "language_info": {
      "name": "python"
    }
  },
  "cells": [
    {
      "cell_type": "code",
      "execution_count": 3,
      "metadata": {
        "id": "bKHo8mTgoJMY"
      },
      "outputs": [],
      "source": [
        "import numpy as np"
      ]
    },
    {
      "cell_type": "markdown",
      "source": [
        "### Masked arrays are arrays that contain a mask, indicating invalid or missing values. The mask is an array of the same shape as the data array, where True values indicate masked (invalid or missing) elements and False values indicate valid elements. Masked arrays allow you to perform computations while ignoring the masked elements."
      ],
      "metadata": {
        "id": "7jO_CvcXoy0s"
      }
    },
    {
      "cell_type": "code",
      "source": [
        "data = np.random.random(10)"
      ],
      "metadata": {
        "id": "UeBrTvIepD1B"
      },
      "execution_count": 5,
      "outputs": []
    },
    {
      "cell_type": "code",
      "source": [
        "data"
      ],
      "metadata": {
        "colab": {
          "base_uri": "https://localhost:8080/"
        },
        "id": "0A310i1HpPFw",
        "outputId": "bca0cc57-2317-4e72-b5b4-56d22ca4d52b"
      },
      "execution_count": 7,
      "outputs": [
        {
          "output_type": "execute_result",
          "data": {
            "text/plain": [
              "array([0.77284564, 0.04603847, 0.67703796, 0.28643392, 0.78035557,\n",
              "       0.41629184, 0.63883513, 0.53164875, 0.94056888, 0.49815159])"
            ]
          },
          "metadata": {},
          "execution_count": 7
        }
      ]
    },
    {
      "cell_type": "code",
      "source": [
        "mask = data>0.5 ## codnition for invalid data , data<0.5 is valid"
      ],
      "metadata": {
        "id": "za_C48acoqiu"
      },
      "execution_count": 6,
      "outputs": []
    },
    {
      "cell_type": "code",
      "source": [
        "data[mask] ##printing invalid elements"
      ],
      "metadata": {
        "colab": {
          "base_uri": "https://localhost:8080/"
        },
        "id": "2wQQbTc-oqld",
        "outputId": "c88a0341-a265-4002-ad8f-d38858eca6fe"
      },
      "execution_count": 8,
      "outputs": [
        {
          "output_type": "execute_result",
          "data": {
            "text/plain": [
              "array([0.77284564, 0.67703796, 0.78035557, 0.63883513, 0.53164875,\n",
              "       0.94056888])"
            ]
          },
          "metadata": {},
          "execution_count": 8
        }
      ]
    },
    {
      "cell_type": "code",
      "source": [],
      "metadata": {
        "id": "6uM2y7zKoqoa"
      },
      "execution_count": null,
      "outputs": []
    },
    {
      "cell_type": "code",
      "source": [],
      "metadata": {
        "id": "Dt5UO85GoqrT"
      },
      "execution_count": null,
      "outputs": []
    }
  ]
}